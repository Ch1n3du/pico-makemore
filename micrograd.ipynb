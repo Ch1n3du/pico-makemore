{
 "cells": [
  {
   "cell_type": "markdown",
   "metadata": {},
   "source": [
    "# micrograd"
   ]
  },
  {
   "cell_type": "code",
   "execution_count": null,
   "metadata": {},
   "outputs": [],
   "source": [
    "import math\n",
    "import random\n",
    "import numpy as np\n",
    "import matplotlib.pyplot as plt\n",
    "%matplotlib inline"
   ]
  },
  {
   "cell_type": "code",
   "execution_count": null,
   "metadata": {},
   "outputs": [],
   "source": [
    "def f(x):\n",
    "    return 3*x**2 - 4*x + 5"
   ]
  },
  {
   "cell_type": "code",
   "execution_count": null,
   "metadata": {},
   "outputs": [],
   "source": [
    "f(3.0)"
   ]
  },
  {
   "cell_type": "code",
   "execution_count": null,
   "metadata": {},
   "outputs": [],
   "source": [
    "xs = np.arange(-5, 5)\n",
    "ys = f(xs)\n",
    "plt.plot(xs, ys)"
   ]
  },
  {
   "cell_type": "markdown",
   "metadata": {},
   "source": [
    "The derivative of a function ***f(x)*** is the amount ***f(x)*** changes when a small value ***h*** is added to ***x***, as ***h*** approaches `0`.\n",
    "$$ \\lim_{h \\to 0} \\frac{f(x+h) - f(x)}{h}$$"
   ]
  },
  {
   "cell_type": "code",
   "execution_count": null,
   "metadata": {},
   "outputs": [],
   "source": [
    "h = 0.000001\n",
    "x = 2/3\n",
    "(f(x+h) - f(x)) / h # Dividing by h 'normalizes' the difference"
   ]
  },
  {
   "cell_type": "code",
   "execution_count": null,
   "metadata": {},
   "outputs": [],
   "source": [
    "# More complex function d(a, b, c) = a * b + c\n",
    "h = 0.0001\n",
    "\n",
    "# Inputs\n",
    "a = 2.0\n",
    "b =  -3.0\n",
    "c = 10.0\n",
    "\n",
    "d1 = a * b + c\n",
    "a += h\n",
    "d2 = a * b + c\n",
    "\n",
    "print(\"d1:\", d1)\n",
    "print(\"d2:\", d2)\n",
    "print(\"Slope:\", (d2-d1)/h)\n",
    "# Note: da/dd = b = -3.0\n",
    "# Note: db/dd = a = 2.0\n",
    "# Note: dc/dd = so the slope will be 1"
   ]
  },
  {
   "cell_type": "code",
   "execution_count": null,
   "metadata": {},
   "outputs": [],
   "source": [
    "class Value:\n",
    "    def __init__(self, data, _children=(), _op=\"\", label=\"\") -> None:\n",
    "        self.data = data\n",
    "        self.grad = 0.0\n",
    "        self._backward = lambda: None\n",
    "        self._prev = set(_children)\n",
    "        self._op = _op\n",
    "        self.label = label\n",
    "\n",
    "    def __repr__(self) -> str:\n",
    "        return f\"Value(data={self.data})\"\n",
    "\n",
    "    def __neg__(self):\n",
    "        return self * -1\n",
    "    \n",
    "    def __add__(self, other):\n",
    "        other = other if isinstance(other, Value) else Value(other)\n",
    "        out = Value(self.data + other.data, _children=(self, other), _op=\"+\")\n",
    "\n",
    "        def _backward():\n",
    "            self.grad += 1.0 * out.grad\n",
    "            other.grad += 1.0 * out.grad\n",
    "        out._backward = _backward\n",
    "        return out\n",
    "\n",
    "    def __radd__(self, other): # other + self\n",
    "        return self + other\n",
    "    \n",
    "    def __sub__(self, other):\n",
    "        return self + (-other)\n",
    "\n",
    "    def __rsub__(self, other): # other - self\n",
    "        return other + (-self)\n",
    "\n",
    "    def __mul__(self, other):\n",
    "        other = other if isinstance(other, Value) else Value(other)\n",
    "        out = Value(self.data * other.data, _children=(self, other), _op=\"*\")\n",
    "\n",
    "        def _backward():\n",
    "            self.grad += other.data * out.grad\n",
    "            other.grad += self.data * out.grad\n",
    "        out._backward = _backward\n",
    "\n",
    "        return out\n",
    "    \n",
    "    def __rmul__(self, other): # other, self: Reverses the args of __mul__ if it fails\n",
    "        return self * other\n",
    "\n",
    "    def __truediv__(self, other):\n",
    "        return self * (other**-1)\n",
    "    \n",
    "    def __rtruediv__(self, other): # other / self\n",
    "        return other * self**-1\n",
    "\n",
    "    def tanh(self):\n",
    "        x = self.data\n",
    "        tanh_x = (math.exp(2*x) - 1) / (math.exp(2*x) + 1)\n",
    "        out = Value(data=tanh_x, _children=(self,), _op='tanh')\n",
    "\n",
    "        def _backward():\n",
    "            local_grad = 1 - tanh_x**2\n",
    "            self.grad += local_grad * out.grad\n",
    "        out._backward = _backward\n",
    "\n",
    "        return out\n",
    "    \n",
    "    def __pow__(self, other):\n",
    "        assert isinstance(other, (int, float)), \"Only supporting int/float powers\"\n",
    "        out = Value(data=self.data**other, _children=(self, ), _op=f\"^{other}\")\n",
    "\n",
    "        # d/dx(x^n) = n*x^n-1\n",
    "        def _backward():\n",
    "            n = other\n",
    "            x = self.data\n",
    "            self.grad += (n * (x**(n-1))) * out.grad\n",
    "        out._backward = _backward\n",
    "\n",
    "        return out\n",
    "\n",
    "    def exp(self):\n",
    "        x = self.data\n",
    "        out =  Value(data=math.exp(x), _children=(self, ), _op='exp')\n",
    "\n",
    "        def _backward():\n",
    "            self.grad += out.data * out.grad\n",
    "        out._backward = _backward\n",
    "\n",
    "        return out\n",
    "\n",
    "    def backward(self):\n",
    "        # Topological sort\n",
    "        topo = []\n",
    "        visited = set()\n",
    "        def build_topo(v):\n",
    "            if v not in visited:\n",
    "                visited.add(v)\n",
    "                for child in v._prev:\n",
    "                    build_topo(child)\n",
    "                topo.append(v) # Append a node only after it's children have been appended\n",
    "                return topo\n",
    "        build_topo(self)\n",
    "            \n",
    "        self.grad = 1.0\n",
    "        for node in reversed(topo):\n",
    "            node._backward()\n",
    "\n",
    "\n",
    "\n",
    "\n",
    "a = Value(2.0, label=\"a\")\n",
    "b = Value(-3.0, label=\"b\")\n",
    "c = Value(10.0, label=\"c\")\n",
    "e = a * b; e.label = 'e'   # Intermediate variable for better visualization\n",
    "d = e + c; d.label = 'd'\n",
    "f = Value(-2.0, label='f')\n",
    "L = d * f\n",
    "\n",
    "L"
   ]
  },
  {
   "cell_type": "code",
   "execution_count": null,
   "metadata": {},
   "outputs": [],
   "source": [
    "from graphviz import Digraph\n",
    "\n",
    "def trace(root):\n",
    "    \"\"\"Builds a set of all nodes and edges in the graph\"\"\"\n",
    "    nodes, edges = set(), set()\n",
    "    def build(v):\n",
    "        if v not in nodes:\n",
    "            nodes.add(v)\n",
    "            for child in v._prev:\n",
    "                edges.add((child, v))\n",
    "                build(child)\n",
    "    build(root)\n",
    "    return nodes, edges\n",
    "\n",
    "def draw_dot(root):\n",
    "    dot = Digraph(format=\"svg\", graph_attr={\"rankdir\": \"LR\"}) # LR means Left-to-Right\n",
    "    \n",
    "    nodes, edges = trace(root)\n",
    "    for node in nodes:\n",
    "        uid = str(id(node))\n",
    "        # For any value in the graph create a rectangular ('record') node for it\n",
    "        dot.node(name=uid, label=f\"{{{node.label} | data: {node.data:.4f} | grad: {node.grad:.4f} }}\", shape=\"record\")\n",
    "        if node._op:\n",
    "            # If this value is the result of an operation, create an op node for it\n",
    "            dot.node(name = uid + node._op, label = node._op)\n",
    "            # and connect this node to it.\n",
    "            dot.edge(uid + node._op, uid)\n",
    "    \n",
    "    for parent, child in edges:\n",
    "        # Connect the parent to the op node of it's child\n",
    "        dot.edge(str(id(parent)), str(id(child)) + child._op)\n",
    "    return dot"
   ]
  },
  {
   "cell_type": "markdown",
   "metadata": {},
   "source": [
    "## Simple Neuron\n",
    "\n",
    "![Simple Neuron](\"static/simple_neuron.jpeg\")"
   ]
  },
  {
   "cell_type": "code",
   "execution_count": null,
   "metadata": {},
   "outputs": [],
   "source": [
    "# Inputs\n",
    "x1 = Value(2.0, label='x1')\n",
    "x2 = Value(0.0, label='x2')\n",
    "\n",
    "# Weights\n",
    "w1 = Value(-3.0, label='w1')\n",
    "w2 = Value(1.0, label='w2')\n",
    "\n",
    "# Bias of the neuron\n",
    "b = Value(6.8813735870195432); b.label = 'b'\n",
    "\n",
    "# x1w1 + x2w2 + b\n",
    "x1w1 = x1 * w1\n",
    "x1w1.label = 'x1*w1'\n",
    "\n",
    "x2w2 = x2 * w2\n",
    "x2w2.label = 'x2*w2'\n",
    "\n",
    "x1w1x2w2 = x1w1 + x2w2\n",
    "x1w1x2w2.label = 'x1*w1 + x2*w2'\n",
    "\n",
    "n = x1w1x2w2 + b\n",
    "n.label = 'n'\n",
    "\n",
    "# Activation function\n",
    "e = (2*n).exp(); e.label = 'e'\n",
    "o = (e - 1) / (e + 1)\n",
    "o.label = 'o'\n",
    "# o = n.tanh()\n"
   ]
  },
  {
   "cell_type": "code",
   "execution_count": null,
   "metadata": {},
   "outputs": [],
   "source": [
    "draw_dot(o)"
   ]
  },
  {
   "cell_type": "code",
   "execution_count": null,
   "metadata": {},
   "outputs": [],
   "source": [
    "o.backward()\n"
   ]
  },
  {
   "cell_type": "markdown",
   "metadata": {},
   "source": [
    "## Neuron\n",
    "\n",
    "![Neural Net](\"./static/neural_net.jpeg\")"
   ]
  },
  {
   "cell_type": "code",
   "execution_count": 34,
   "metadata": {},
   "outputs": [
    {
     "data": {
      "text/plain": [
       "Value(data=-0.5299456467341261)"
      ]
     },
     "execution_count": 34,
     "metadata": {},
     "output_type": "execute_result"
    }
   ],
   "source": [
    "class Neuron:\n",
    "    def __init__(self, number_of_inputs) -> None:\n",
    "        self.weights = [Value(random.uniform(-1, 1)) for _ in range(number_of_inputs)]\n",
    "        self.bias = Value(random.uniform(-1, 1))\n",
    "    \n",
    "    def __call__(self, xs):\n",
    "        \"\"\"Takes the input for a neuron and gives x * w + b.\"\"\"\n",
    "        activation = sum(wi*xi for wi, xi in zip(self.weights, xs)) + self.bias\n",
    "        out = activation.tanh()\n",
    "        return out\n",
    "\n",
    "    def parameters(self):\n",
    "        return self.weights + [self.bias]\n",
    "\n",
    "class Layer:\n",
    "    \"\"\"List of neurons that all get the same inputs.\"\"\"\n",
    "    def __init__(self, number_of_inputs, number_of_output) -> None:\n",
    "        \"\"\"Every neuron has number_of_inputs inputs and there are number_of_outputs neurons\"\"\"\n",
    "        self.neurons = [Neuron(number_of_inputs) for _ in range(number_of_output)]\n",
    "    \n",
    "    def __call__(self, xs):\n",
    "        outs = [neuron(xs) for neuron in self.neurons]\n",
    "        return outs[0] if len(outs) == 1 else outs\n",
    "\n",
    "    def parameters(self):\n",
    "        return [parameter for neuron in self.neurons for parameter in neuron.parameters()]\n",
    "\n",
    "class MLP():\n",
    "    \"\"\"Multi-Layer Perceptron\"\"\"\n",
    "\n",
    "    def __init__(self, number_of_inputs, number_of_outputs) -> None:\n",
    "        layer_sizes = [number_of_inputs] + number_of_outputs\n",
    "        self.layers = [Layer(layer_sizes[i], layer_sizes[i+1]) for i in range(len(number_of_outputs))]\n",
    "    \n",
    "    def __call__(self, xs):\n",
    "        for layer in self.layers:\n",
    "            # Propagate the inputs through the layers\n",
    "            xs = layer(xs)\n",
    "        return xs\n",
    "\n",
    "    def parameters(self):\n",
    "        return [parameter for layer in self.layers for parameter in layer.parameters()]\n",
    "\n",
    "x = [2.0, 3.0]\n",
    "# n = Layer(2, 3) # Neuron with two inputs\n",
    "# n(x)\n",
    "net = MLP(3, [4, 4, 1])\n",
    "net([1.0, 2.0, 3.0])"
   ]
  },
  {
   "cell_type": "code",
   "execution_count": 38,
   "metadata": {},
   "outputs": [
    {
     "name": "stdout",
     "output_type": "stream",
     "text": [
      "0 0.017873985476960234\n",
      "1 0.0166423501269899\n",
      "2 0.01560193391864436\n",
      "3 0.014709807198896228\n",
      "4 0.01393503022695108\n",
      "5 0.013254743970216636\n",
      "6 0.012651696688067173\n",
      "7 0.012112626172873384\n",
      "8 0.011627171022239405\n",
      "9 0.011187119538893033\n",
      "10 0.010785880146583604\n",
      "11 0.01041810072202407\n",
      "12 0.010079390221759427\n",
      "13 0.009766111947040388\n",
      "14 0.009475227854930206\n",
      "15 0.009204179817521491\n",
      "16 0.008950798008479234\n",
      "17 0.008713229467139271\n",
      "18 0.00848988185080228\n",
      "19 0.008279378745666864\n"
     ]
    }
   ],
   "source": [
    "data = [\n",
    "    [2.0, 3.0, -1.0],\n",
    "    [3.0, -1.0, 0.5],\n",
    "    [0.5, 1.0, 1.0],\n",
    "    [1.0, 1.0, -1.0]\n",
    "]\n",
    "\n",
    "target_predictions = [1.0, -1., -1., 1.]\n",
    "learning_rate = 0.1\n",
    "\n",
    "# Training Loop\n",
    "for iteration in range(50):\n",
    "    ## Forward Pass\n",
    "    predictions = [net(row) for row in data]\n",
    "    loss = sum([(prediction - target)**2 for target, prediction in zip(target_predictions, predictions)])\n",
    "\n",
    "    ## Backward Pass\n",
    "    ### Clear gradients\n",
    "    for param in net.parameters():\n",
    "        param.grad = 0.0\n",
    "    loss.backward()\n",
    "\n",
    "    ## Update\n",
    "    for param in net.parameters():\n",
    "        # We subtract because we want to reduce the value of the loss.\n",
    "        param.data -= param.grad * learning_rate\n",
    "    \n",
    "    print(iteration, loss.data)"
   ]
  }
 ],
 "metadata": {
  "kernelspec": {
   "display_name": "Python 3.10.9 ('pico-makemore')",
   "language": "python",
   "name": "python3"
  },
  "language_info": {
   "codemirror_mode": {
    "name": "ipython",
    "version": 3
   },
   "file_extension": ".py",
   "mimetype": "text/x-python",
   "name": "python",
   "nbconvert_exporter": "python",
   "pygments_lexer": "ipython3",
   "version": "3.10.9"
  },
  "orig_nbformat": 4,
  "vscode": {
   "interpreter": {
    "hash": "e6c67e4c6f7cd5c827665c1bbaa59457136f08b84d97f60e6b23045a7929dfba"
   }
  }
 },
 "nbformat": 4,
 "nbformat_minor": 2
}
