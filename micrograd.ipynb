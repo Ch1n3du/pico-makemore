{
 "cells": [
  {
   "cell_type": "markdown",
   "metadata": {},
   "source": [
    "# micrograd"
   ]
  },
  {
   "cell_type": "code",
   "execution_count": 11,
   "metadata": {},
   "outputs": [],
   "source": [
    "import math\n",
    "import numpy as np\n",
    "import matplotlib.pyplot as plt\n",
    "%matplotlib inline"
   ]
  },
  {
   "cell_type": "code",
   "execution_count": null,
   "metadata": {},
   "outputs": [],
   "source": [
    "def f(x):\n",
    "    return 3*x**2 - 4*x + 5"
   ]
  },
  {
   "cell_type": "code",
   "execution_count": null,
   "metadata": {},
   "outputs": [],
   "source": [
    "f(3.0)"
   ]
  },
  {
   "cell_type": "code",
   "execution_count": null,
   "metadata": {},
   "outputs": [],
   "source": [
    "xs = np.arange(-5, 5)\n",
    "ys = f(xs)\n",
    "plt.plot(xs, ys)"
   ]
  },
  {
   "cell_type": "markdown",
   "metadata": {},
   "source": [
    "The derivative of a function ***f(x)*** is the amount ***f(x)*** changes when a small value ***h*** is added to ***x***, as ***h*** approaches `0`.\n",
    "$$ \\lim_{h \\to 0} \\frac{f(x+h) - f(x)}{h}$$"
   ]
  },
  {
   "cell_type": "code",
   "execution_count": null,
   "metadata": {},
   "outputs": [],
   "source": [
    "h = 0.000001\n",
    "x = 2/3\n",
    "(f(x+h) - f(x)) / h # Dividing by h 'normalizes' the difference"
   ]
  },
  {
   "cell_type": "code",
   "execution_count": null,
   "metadata": {},
   "outputs": [],
   "source": [
    "# More complex function d(a, b, c) = a * b + c\n",
    "h = 0.0001\n",
    "\n",
    "# Inputs\n",
    "a = 2.0\n",
    "b =  -3.0\n",
    "c = 10.0\n",
    "\n",
    "d1 = a * b + c\n",
    "a += h\n",
    "d2 = a * b + c\n",
    "\n",
    "print(\"d1:\", d1)\n",
    "print(\"d2:\", d2)\n",
    "print(\"Slope:\", (d2-d1)/h)\n",
    "# Note: da/dd = b = -3.0\n",
    "# Note: db/dd = a = 2.0\n",
    "# Note: dc/dd = so the slope will be 1"
   ]
  },
  {
   "cell_type": "code",
   "execution_count": 47,
   "metadata": {},
   "outputs": [
    {
     "data": {
      "text/plain": [
       "Value(data=-8.0)"
      ]
     },
     "execution_count": 47,
     "metadata": {},
     "output_type": "execute_result"
    }
   ],
   "source": [
    "class Value:\n",
    "    def __init__(self, data, _children=(), _op=\"\", label=\"\") -> None:\n",
    "        self.data = data\n",
    "        self.grad = 0.0\n",
    "        self._backward = lambda: None\n",
    "        self._prev = set(_children)\n",
    "        self._op = _op\n",
    "        self.label = label\n",
    "\n",
    "    def __repr__(self) -> str:\n",
    "        return f\"Value(data={self.data})\"\n",
    "    \n",
    "    def __add__(self, other):\n",
    "        out = Value(self.data + other.data, _children=(self, other), _op=\"+\")\n",
    "\n",
    "        def _backward():\n",
    "            self.grad = 1.0 * out.grad\n",
    "            other.grad = 1.0 * out.grad\n",
    "        out._backward = _backward\n",
    "        return out\n",
    "\n",
    "    def __mul__(self, other):\n",
    "        out = Value(self.data * other.data, _children=(self, other), _op=\"*\")\n",
    "\n",
    "        def _backward():\n",
    "            self.grad = other.grad * out.grad\n",
    "            other.grad = self.grad * out.grad\n",
    "        out._backward = _backward\n",
    "        return out\n",
    "\n",
    "    def tanh(self):\n",
    "        x = self.data\n",
    "        tanh_x = (math.exp(2*x) - 1) / (math.exp(2*x) + 1)\n",
    "        out = Value(data=tanh_x, _children=(self,), _op='tanh')\n",
    "\n",
    "        def _backward():\n",
    "            local_grad = 1 - tanh_x**2\n",
    "            print(\"Local Grad:\", local_grad)\n",
    "            self.grad = local_grad * out.grad\n",
    "        out._backward = _backward\n",
    "        return out\n",
    "\n",
    "# Topological sort\n",
    "def build_topo(v):\n",
    "    topo = []\n",
    "    visited = set()\n",
    "    if v not in visited:\n",
    "        visited.add(v)\n",
    "        for child in v._prev:\n",
    "            build_topo(child)\n",
    "        topo.append(v)\n",
    "    return topo\n",
    "\n",
    "\n",
    "\n",
    "a = Value(2.0, label=\"a\")\n",
    "b = Value(-3.0, label=\"b\")\n",
    "c = Value(10.0, label=\"c\")\n",
    "e = a * b; e.label = 'e'   # Intermediate variable for better visualization\n",
    "d = e + c; d.label = 'd'\n",
    "f = Value(-2.0, label='f')\n",
    "L = d * f\n",
    "\n",
    "L"
   ]
  },
  {
   "cell_type": "code",
   "execution_count": 34,
   "metadata": {},
   "outputs": [],
   "source": [
    "from graphviz import Digraph\n",
    "\n",
    "def trace(root):\n",
    "    \"\"\"Builds a set of all nodes and edges in the graph\"\"\"\n",
    "    nodes, edges = set(), set()\n",
    "    def build(v):\n",
    "        if v not in nodes:\n",
    "            nodes.add(v)\n",
    "            for child in v._prev:\n",
    "                edges.add((child, v))\n",
    "                build(child)\n",
    "    build(root)\n",
    "    return nodes, edges\n",
    "\n",
    "def draw_dot(root):\n",
    "    dot = Digraph(format=\"svg\", graph_attr={\"rankdir\": \"LR\"}) # LR means Left-to-Right\n",
    "    \n",
    "    nodes, edges = trace(root)\n",
    "    for node in nodes:\n",
    "        uid = str(id(node))\n",
    "        # For any value in the graph create a rectangular ('record') node for it\n",
    "        dot.node(name=uid, label=f\"{{{node.label} | data: {node.data:.4f} | grad: {node.grad:.4f} }}\", shape=\"record\")\n",
    "        if node._op:\n",
    "            # If this value is the result of an operation, create an op node for it\n",
    "            dot.node(name = uid + node._op, label = node._op)\n",
    "            # and connect this node to it.\n",
    "            dot.edge(uid + node._op, uid)\n",
    "    \n",
    "    for parent, child in edges:\n",
    "        # Connect the parent to the op node of it's child\n",
    "        dot.edge(str(id(parent)), str(id(child)) + child._op)\n",
    "    return dot"
   ]
  },
  {
   "cell_type": "markdown",
   "metadata": {},
   "source": [
    "## Simple Neuron\n",
    "\n",
    "![Simple Neuron](\"static/simple_neuron.jpeg\")"
   ]
  },
  {
   "cell_type": "code",
   "execution_count": 56,
   "metadata": {},
   "outputs": [],
   "source": [
    "# Inputs\n",
    "x1 = Value(2.0, label='x1')\n",
    "x2 = Value(0.0, label='x2')\n",
    "\n",
    "# Weights\n",
    "w1 = Value(-3.0, label='w1')\n",
    "w2 = Value(1.0, label='w2')\n",
    "\n",
    "# Bias of the neuron\n",
    "b = Value(6.8813735870195432)\n",
    "\n",
    "# x1w1 + x2w2 + b\n",
    "x1w1 = x1 * w1\n",
    "x1w1.label = 'x1*w1'\n",
    "\n",
    "x2w2 = x2 * w2\n",
    "x2w2.label = 'x2*w2'\n",
    "\n",
    "x1w1x2w2 = x1w1 + x2w2\n",
    "x1w1x2w2.label = 'x1*w1 + x2*w2'\n",
    "\n",
    "n = x1w1x2w2 + b\n",
    "n.label = 'n'\n",
    "\n",
    "# Activation function\n",
    "o = n.tanh()\n",
    "o.label = 'o'\n"
   ]
  },
  {
   "cell_type": "code",
   "execution_count": 59,
   "metadata": {},
   "outputs": [
    {
     "data": {
      "image/svg+xml": "<?xml version=\"1.0\" encoding=\"UTF-8\" standalone=\"no\"?>\n<!DOCTYPE svg PUBLIC \"-//W3C//DTD SVG 1.1//EN\"\n \"http://www.w3.org/Graphics/SVG/1.1/DTD/svg11.dtd\">\n<!-- Generated by graphviz version 2.50.0 (0)\n -->\n<!-- Pages: 1 -->\n<svg width=\"1888pt\" height=\"210pt\"\n viewBox=\"0.00 0.00 1887.69 210.00\" xmlns=\"http://www.w3.org/2000/svg\" xmlns:xlink=\"http://www.w3.org/1999/xlink\">\n<g id=\"graph0\" class=\"graph\" transform=\"scale(1 1) rotate(0) translate(4 206)\">\n<polygon fill=\"white\" stroke=\"transparent\" points=\"-4,4 -4,-206 1883.69,-206 1883.69,4 -4,4\"/>\n<!-- 140613724374016 -->\n<g id=\"node1\" class=\"node\">\n<title>140613724374016</title>\n<polygon fill=\"none\" stroke=\"black\" points=\"385,-55.5 385,-91.5 662,-91.5 662,-55.5 385,-55.5\"/>\n<text text-anchor=\"middle\" x=\"416\" y=\"-69.8\" font-family=\"Times,serif\" font-size=\"14.00\">x2*w2</text>\n<polyline fill=\"none\" stroke=\"black\" points=\"447,-55.5 447,-91.5 \"/>\n<text text-anchor=\"middle\" x=\"500.5\" y=\"-69.8\" font-family=\"Times,serif\" font-size=\"14.00\">data: 0.0000</text>\n<polyline fill=\"none\" stroke=\"black\" points=\"554,-55.5 554,-91.5 \"/>\n<text text-anchor=\"middle\" x=\"608\" y=\"-69.8\" font-family=\"Times,serif\" font-size=\"14.00\">grad: 0.0000</text>\n</g>\n<!-- 140613724382032+ -->\n<g id=\"node10\" class=\"node\">\n<title>140613724382032+</title>\n<ellipse fill=\"none\" stroke=\"black\" cx=\"727\" cy=\"-100.5\" rx=\"27\" ry=\"18\"/>\n<text text-anchor=\"middle\" x=\"727\" y=\"-96.8\" font-family=\"Times,serif\" font-size=\"14.00\">+</text>\n</g>\n<!-- 140613724374016&#45;&gt;140613724382032+ -->\n<g id=\"edge7\" class=\"edge\">\n<title>140613724374016&#45;&gt;140613724382032+</title>\n<path fill=\"none\" stroke=\"black\" d=\"M658.9,-91.51C670.23,-93.03 680.92,-94.46 690.3,-95.72\"/>\n<polygon fill=\"black\" stroke=\"black\" points=\"689.91,-99.2 700.29,-97.05 690.84,-92.26 689.91,-99.2\"/>\n</g>\n<!-- 140613724374016* -->\n<g id=\"node2\" class=\"node\">\n<title>140613724374016*</title>\n<ellipse fill=\"none\" stroke=\"black\" cx=\"320\" cy=\"-73.5\" rx=\"27\" ry=\"18\"/>\n<text text-anchor=\"middle\" x=\"320\" y=\"-69.8\" font-family=\"Times,serif\" font-size=\"14.00\">*</text>\n</g>\n<!-- 140613724374016*&#45;&gt;140613724374016 -->\n<g id=\"edge1\" class=\"edge\">\n<title>140613724374016*&#45;&gt;140613724374016</title>\n<path fill=\"none\" stroke=\"black\" d=\"M347.34,-73.5C355.18,-73.5 364.38,-73.5 374.39,-73.5\"/>\n<polygon fill=\"black\" stroke=\"black\" points=\"374.64,-77 384.64,-73.5 374.64,-70 374.64,-77\"/>\n</g>\n<!-- 140613724385824 -->\n<g id=\"node3\" class=\"node\">\n<title>140613724385824</title>\n<polygon fill=\"none\" stroke=\"black\" points=\"845.5,-137.5 845.5,-173.5 1081.5,-173.5 1081.5,-137.5 845.5,-137.5\"/>\n<text text-anchor=\"middle\" x=\"856\" y=\"-151.8\" font-family=\"Times,serif\" font-size=\"14.00\"> </text>\n<polyline fill=\"none\" stroke=\"black\" points=\"866.5,-137.5 866.5,-173.5 \"/>\n<text text-anchor=\"middle\" x=\"920\" y=\"-151.8\" font-family=\"Times,serif\" font-size=\"14.00\">data: 6.8814</text>\n<polyline fill=\"none\" stroke=\"black\" points=\"973.5,-137.5 973.5,-173.5 \"/>\n<text text-anchor=\"middle\" x=\"1027.5\" y=\"-151.8\" font-family=\"Times,serif\" font-size=\"14.00\">grad: 0.0000</text>\n</g>\n<!-- 140613724377856+ -->\n<g id=\"node8\" class=\"node\">\n<title>140613724377856+</title>\n<ellipse fill=\"none\" stroke=\"black\" cx=\"1200\" cy=\"-127.5\" rx=\"27\" ry=\"18\"/>\n<text text-anchor=\"middle\" x=\"1200\" y=\"-123.8\" font-family=\"Times,serif\" font-size=\"14.00\">+</text>\n</g>\n<!-- 140613724385824&#45;&gt;140613724377856+ -->\n<g id=\"edge10\" class=\"edge\">\n<title>140613724385824&#45;&gt;140613724377856+</title>\n<path fill=\"none\" stroke=\"black\" d=\"M1081.75,-141.5C1111.27,-137.98 1140.79,-134.45 1162.83,-131.82\"/>\n<polygon fill=\"black\" stroke=\"black\" points=\"1163.49,-135.26 1173.01,-130.6 1162.66,-128.31 1163.49,-135.26\"/>\n</g>\n<!-- 140613724374064 -->\n<g id=\"node4\" class=\"node\">\n<title>140613724374064</title>\n<polygon fill=\"none\" stroke=\"black\" points=\"4,-55.5 4,-91.5 253,-91.5 253,-55.5 4,-55.5\"/>\n<text text-anchor=\"middle\" x=\"21\" y=\"-69.8\" font-family=\"Times,serif\" font-size=\"14.00\">x2</text>\n<polyline fill=\"none\" stroke=\"black\" points=\"38,-55.5 38,-91.5 \"/>\n<text text-anchor=\"middle\" x=\"91.5\" y=\"-69.8\" font-family=\"Times,serif\" font-size=\"14.00\">data: 0.0000</text>\n<polyline fill=\"none\" stroke=\"black\" points=\"145,-55.5 145,-91.5 \"/>\n<text text-anchor=\"middle\" x=\"199\" y=\"-69.8\" font-family=\"Times,serif\" font-size=\"14.00\">grad: 0.0000</text>\n</g>\n<!-- 140613724374064&#45;&gt;140613724374016* -->\n<g id=\"edge14\" class=\"edge\">\n<title>140613724374064&#45;&gt;140613724374016*</title>\n<path fill=\"none\" stroke=\"black\" d=\"M253.25,-73.5C263.74,-73.5 273.7,-73.5 282.55,-73.5\"/>\n<polygon fill=\"black\" stroke=\"black\" points=\"282.76,-77 292.76,-73.5 282.76,-70 282.76,-77\"/>\n</g>\n<!-- 140613724385344 -->\n<g id=\"node5\" class=\"node\">\n<title>140613724385344</title>\n<polygon fill=\"none\" stroke=\"black\" points=\"2,-0.5 2,-36.5 255,-36.5 255,-0.5 2,-0.5\"/>\n<text text-anchor=\"middle\" x=\"21\" y=\"-14.8\" font-family=\"Times,serif\" font-size=\"14.00\">w2</text>\n<polyline fill=\"none\" stroke=\"black\" points=\"40,-0.5 40,-36.5 \"/>\n<text text-anchor=\"middle\" x=\"93.5\" y=\"-14.8\" font-family=\"Times,serif\" font-size=\"14.00\">data: 1.0000</text>\n<polyline fill=\"none\" stroke=\"black\" points=\"147,-0.5 147,-36.5 \"/>\n<text text-anchor=\"middle\" x=\"201\" y=\"-14.8\" font-family=\"Times,serif\" font-size=\"14.00\">grad: 0.0000</text>\n</g>\n<!-- 140613724385344&#45;&gt;140613724374016* -->\n<g id=\"edge12\" class=\"edge\">\n<title>140613724385344&#45;&gt;140613724374016*</title>\n<path fill=\"none\" stroke=\"black\" d=\"M222,-36.58C233.87,-39.55 245.79,-42.87 257,-46.5 267.47,-49.89 278.59,-54.42 288.47,-58.8\"/>\n<polygon fill=\"black\" stroke=\"black\" points=\"287.33,-62.12 297.88,-63.08 290.22,-55.75 287.33,-62.12\"/>\n</g>\n<!-- 140613724386544 -->\n<g id=\"node6\" class=\"node\">\n<title>140613724386544</title>\n<polygon fill=\"none\" stroke=\"black\" points=\"0,-165.5 0,-201.5 257,-201.5 257,-165.5 0,-165.5\"/>\n<text text-anchor=\"middle\" x=\"19\" y=\"-179.8\" font-family=\"Times,serif\" font-size=\"14.00\">w1</text>\n<polyline fill=\"none\" stroke=\"black\" points=\"38,-165.5 38,-201.5 \"/>\n<text text-anchor=\"middle\" x=\"93.5\" y=\"-179.8\" font-family=\"Times,serif\" font-size=\"14.00\">data: &#45;3.0000</text>\n<polyline fill=\"none\" stroke=\"black\" points=\"149,-165.5 149,-201.5 \"/>\n<text text-anchor=\"middle\" x=\"203\" y=\"-179.8\" font-family=\"Times,serif\" font-size=\"14.00\">grad: 0.0000</text>\n</g>\n<!-- 140613724379104* -->\n<g id=\"node13\" class=\"node\">\n<title>140613724379104*</title>\n<ellipse fill=\"none\" stroke=\"black\" cx=\"320\" cy=\"-128.5\" rx=\"27\" ry=\"18\"/>\n<text text-anchor=\"middle\" x=\"320\" y=\"-124.8\" font-family=\"Times,serif\" font-size=\"14.00\">*</text>\n</g>\n<!-- 140613724386544&#45;&gt;140613724379104* -->\n<g id=\"edge9\" class=\"edge\">\n<title>140613724386544&#45;&gt;140613724379104*</title>\n<path fill=\"none\" stroke=\"black\" d=\"M225.82,-165.43C236.43,-162.75 247,-159.77 257,-156.5 267.72,-152.99 279.07,-148.2 289.08,-143.58\"/>\n<polygon fill=\"black\" stroke=\"black\" points=\"290.68,-146.7 298.21,-139.25 287.68,-140.37 290.68,-146.7\"/>\n</g>\n<!-- 140613724377856 -->\n<g id=\"node7\" class=\"node\">\n<title>140613724377856</title>\n<polygon fill=\"none\" stroke=\"black\" points=\"1263,-109.5 1263,-145.5 1504,-145.5 1504,-109.5 1263,-109.5\"/>\n<text text-anchor=\"middle\" x=\"1276\" y=\"-123.8\" font-family=\"Times,serif\" font-size=\"14.00\">n</text>\n<polyline fill=\"none\" stroke=\"black\" points=\"1289,-109.5 1289,-145.5 \"/>\n<text text-anchor=\"middle\" x=\"1342.5\" y=\"-123.8\" font-family=\"Times,serif\" font-size=\"14.00\">data: 0.8814</text>\n<polyline fill=\"none\" stroke=\"black\" points=\"1396,-109.5 1396,-145.5 \"/>\n<text text-anchor=\"middle\" x=\"1450\" y=\"-123.8\" font-family=\"Times,serif\" font-size=\"14.00\">grad: 0.5000</text>\n</g>\n<!-- 140613724376560tanh -->\n<g id=\"node15\" class=\"node\">\n<title>140613724376560tanh</title>\n<ellipse fill=\"none\" stroke=\"black\" cx=\"1571.85\" cy=\"-127.5\" rx=\"31.7\" ry=\"18\"/>\n<text text-anchor=\"middle\" x=\"1571.85\" y=\"-123.8\" font-family=\"Times,serif\" font-size=\"14.00\">tanh</text>\n</g>\n<!-- 140613724377856&#45;&gt;140613724376560tanh -->\n<g id=\"edge11\" class=\"edge\">\n<title>140613724377856&#45;&gt;140613724376560tanh</title>\n<path fill=\"none\" stroke=\"black\" d=\"M1504.1,-127.5C1513.06,-127.5 1521.67,-127.5 1529.56,-127.5\"/>\n<polygon fill=\"black\" stroke=\"black\" points=\"1529.82,-131 1539.82,-127.5 1529.82,-124 1529.82,-131\"/>\n</g>\n<!-- 140613724377856+&#45;&gt;140613724377856 -->\n<g id=\"edge2\" class=\"edge\">\n<title>140613724377856+&#45;&gt;140613724377856</title>\n<path fill=\"none\" stroke=\"black\" d=\"M1227,-127.5C1234.5,-127.5 1243.22,-127.5 1252.64,-127.5\"/>\n<polygon fill=\"black\" stroke=\"black\" points=\"1252.68,-131 1262.68,-127.5 1252.68,-124 1252.68,-131\"/>\n</g>\n<!-- 140613724382032 -->\n<g id=\"node9\" class=\"node\">\n<title>140613724382032</title>\n<polygon fill=\"none\" stroke=\"black\" points=\"790,-82.5 790,-118.5 1137,-118.5 1137,-82.5 790,-82.5\"/>\n<text text-anchor=\"middle\" x=\"854\" y=\"-96.8\" font-family=\"Times,serif\" font-size=\"14.00\">x1*w1 + x2*w2</text>\n<polyline fill=\"none\" stroke=\"black\" points=\"918,-82.5 918,-118.5 \"/>\n<text text-anchor=\"middle\" x=\"973.5\" y=\"-96.8\" font-family=\"Times,serif\" font-size=\"14.00\">data: &#45;6.0000</text>\n<polyline fill=\"none\" stroke=\"black\" points=\"1029,-82.5 1029,-118.5 \"/>\n<text text-anchor=\"middle\" x=\"1083\" y=\"-96.8\" font-family=\"Times,serif\" font-size=\"14.00\">grad: 0.0000</text>\n</g>\n<!-- 140613724382032&#45;&gt;140613724377856+ -->\n<g id=\"edge13\" class=\"edge\">\n<title>140613724382032&#45;&gt;140613724377856+</title>\n<path fill=\"none\" stroke=\"black\" d=\"M1120.91,-118.51C1136.38,-120.29 1150.82,-121.95 1162.97,-123.35\"/>\n<polygon fill=\"black\" stroke=\"black\" points=\"1162.69,-126.84 1173.03,-124.51 1163.49,-119.89 1162.69,-126.84\"/>\n</g>\n<!-- 140613724382032+&#45;&gt;140613724382032 -->\n<g id=\"edge3\" class=\"edge\">\n<title>140613724382032+&#45;&gt;140613724382032</title>\n<path fill=\"none\" stroke=\"black\" d=\"M754.44,-100.5C761.66,-100.5 770.05,-100.5 779.25,-100.5\"/>\n<polygon fill=\"black\" stroke=\"black\" points=\"779.53,-104 789.53,-100.5 779.53,-97 779.53,-104\"/>\n</g>\n<!-- 140613724380592 -->\n<g id=\"node11\" class=\"node\">\n<title>140613724380592</title>\n<polygon fill=\"none\" stroke=\"black\" points=\"4,-110.5 4,-146.5 253,-146.5 253,-110.5 4,-110.5\"/>\n<text text-anchor=\"middle\" x=\"21\" y=\"-124.8\" font-family=\"Times,serif\" font-size=\"14.00\">x1</text>\n<polyline fill=\"none\" stroke=\"black\" points=\"38,-110.5 38,-146.5 \"/>\n<text text-anchor=\"middle\" x=\"91.5\" y=\"-124.8\" font-family=\"Times,serif\" font-size=\"14.00\">data: 2.0000</text>\n<polyline fill=\"none\" stroke=\"black\" points=\"145,-110.5 145,-146.5 \"/>\n<text text-anchor=\"middle\" x=\"199\" y=\"-124.8\" font-family=\"Times,serif\" font-size=\"14.00\">grad: 0.0000</text>\n</g>\n<!-- 140613724380592&#45;&gt;140613724379104* -->\n<g id=\"edge6\" class=\"edge\">\n<title>140613724380592&#45;&gt;140613724379104*</title>\n<path fill=\"none\" stroke=\"black\" d=\"M253.25,-128.5C263.74,-128.5 273.7,-128.5 282.55,-128.5\"/>\n<polygon fill=\"black\" stroke=\"black\" points=\"282.76,-132 292.76,-128.5 282.76,-125 282.76,-132\"/>\n</g>\n<!-- 140613724379104 -->\n<g id=\"node12\" class=\"node\">\n<title>140613724379104</title>\n<polygon fill=\"none\" stroke=\"black\" points=\"383,-110.5 383,-146.5 664,-146.5 664,-110.5 383,-110.5\"/>\n<text text-anchor=\"middle\" x=\"414\" y=\"-124.8\" font-family=\"Times,serif\" font-size=\"14.00\">x1*w1</text>\n<polyline fill=\"none\" stroke=\"black\" points=\"445,-110.5 445,-146.5 \"/>\n<text text-anchor=\"middle\" x=\"500.5\" y=\"-124.8\" font-family=\"Times,serif\" font-size=\"14.00\">data: &#45;6.0000</text>\n<polyline fill=\"none\" stroke=\"black\" points=\"556,-110.5 556,-146.5 \"/>\n<text text-anchor=\"middle\" x=\"610\" y=\"-124.8\" font-family=\"Times,serif\" font-size=\"14.00\">grad: 0.0000</text>\n</g>\n<!-- 140613724379104&#45;&gt;140613724382032+ -->\n<g id=\"edge8\" class=\"edge\">\n<title>140613724379104&#45;&gt;140613724382032+</title>\n<path fill=\"none\" stroke=\"black\" d=\"M654.11,-110.49C667.17,-108.67 679.53,-106.96 690.19,-105.48\"/>\n<polygon fill=\"black\" stroke=\"black\" points=\"690.83,-108.92 700.26,-104.08 689.87,-101.99 690.83,-108.92\"/>\n</g>\n<!-- 140613724379104*&#45;&gt;140613724379104 -->\n<g id=\"edge4\" class=\"edge\">\n<title>140613724379104*&#45;&gt;140613724379104</title>\n<path fill=\"none\" stroke=\"black\" d=\"M347.34,-128.5C354.79,-128.5 363.45,-128.5 372.87,-128.5\"/>\n<polygon fill=\"black\" stroke=\"black\" points=\"372.94,-132 382.94,-128.5 372.94,-125 372.94,-132\"/>\n</g>\n<!-- 140613724376560 -->\n<g id=\"node14\" class=\"node\">\n<title>140613724376560</title>\n<polygon fill=\"none\" stroke=\"black\" points=\"1639.69,-109.5 1639.69,-145.5 1879.69,-145.5 1879.69,-109.5 1639.69,-109.5\"/>\n<text text-anchor=\"middle\" x=\"1652.19\" y=\"-123.8\" font-family=\"Times,serif\" font-size=\"14.00\">o</text>\n<polyline fill=\"none\" stroke=\"black\" points=\"1664.69,-109.5 1664.69,-145.5 \"/>\n<text text-anchor=\"middle\" x=\"1718.19\" y=\"-123.8\" font-family=\"Times,serif\" font-size=\"14.00\">data: 0.7071</text>\n<polyline fill=\"none\" stroke=\"black\" points=\"1771.69,-109.5 1771.69,-145.5 \"/>\n<text text-anchor=\"middle\" x=\"1825.69\" y=\"-123.8\" font-family=\"Times,serif\" font-size=\"14.00\">grad: 1.0000</text>\n</g>\n<!-- 140613724376560tanh&#45;&gt;140613724376560 -->\n<g id=\"edge5\" class=\"edge\">\n<title>140613724376560tanh&#45;&gt;140613724376560</title>\n<path fill=\"none\" stroke=\"black\" d=\"M1603.95,-127.5C1611.54,-127.5 1620.14,-127.5 1629.29,-127.5\"/>\n<polygon fill=\"black\" stroke=\"black\" points=\"1629.43,-131 1639.43,-127.5 1629.43,-124 1629.43,-131\"/>\n</g>\n</g>\n</svg>\n",
      "text/plain": [
       "<graphviz.graphs.Digraph at 0x7fe32f17ac20>"
      ]
     },
     "execution_count": 59,
     "metadata": {},
     "output_type": "execute_result"
    }
   ],
   "source": [
    "draw_dot(o)"
   ]
  },
  {
   "cell_type": "code",
   "execution_count": 58,
   "metadata": {},
   "outputs": [
    {
     "name": "stdout",
     "output_type": "stream",
     "text": [
      "Local Grad: 0.4999999999999999\n"
     ]
    }
   ],
   "source": [
    "o.grad = 1\n",
    "o._backward()"
   ]
  },
  {
   "cell_type": "markdown",
   "metadata": {},
   "source": [
    "## Topological Sort\n",
    "\n",
    "This allows you sort out a graph such that all the edges go from left to right, this allows us call `_backward` through our computational graph in the right order. It's done in `build_topo`"
   ]
  }
 ],
 "metadata": {
  "kernelspec": {
   "display_name": "Python 3.10.9 ('pico-makemore')",
   "language": "python",
   "name": "python3"
  },
  "language_info": {
   "codemirror_mode": {
    "name": "ipython",
    "version": 3
   },
   "file_extension": ".py",
   "mimetype": "text/x-python",
   "name": "python",
   "nbconvert_exporter": "python",
   "pygments_lexer": "ipython3",
   "version": "3.10.9"
  },
  "orig_nbformat": 4,
  "vscode": {
   "interpreter": {
    "hash": "e6c67e4c6f7cd5c827665c1bbaa59457136f08b84d97f60e6b23045a7929dfba"
   }
  }
 },
 "nbformat": 4,
 "nbformat_minor": 2
}
